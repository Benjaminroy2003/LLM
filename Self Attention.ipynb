{
 "cells": [
  {
   "cell_type": "code",
   "execution_count": 1,
   "metadata": {},
   "outputs": [],
   "source": [
    "import numpy as np\n",
    "import math\n",
    "\n",
    "L, d_k, d_v = 4, 8, 8\n",
    "q = np.random.rand(L, d_k)\n",
    "k = np.random.rand(L, d_k)\n",
    "v = np.random.rand(L, d_v)\n"
   ]
  },
  {
   "cell_type": "code",
   "execution_count": 2,
   "metadata": {},
   "outputs": [
    {
     "name": "stdout",
     "output_type": "stream",
     "text": [
      "[[0.66591486 0.483948   0.65703501 0.721948   0.17725997 0.51621955\n",
      "  0.97681684 0.475921  ]\n",
      " [0.48831311 0.73694313 0.47870875 0.66093019 0.00493228 0.26488002\n",
      "  0.8526982  0.37341833]\n",
      " [0.33759034 0.09187206 0.49272245 0.3884394  0.70561116 0.88169714\n",
      "  0.13264123 0.59026759]\n",
      " [0.03745709 0.18262709 0.16794478 0.91068081 0.5257054  0.82724924\n",
      "  0.79392561 0.06423781]]\n"
     ]
    }
   ],
   "source": [
    "print(q)"
   ]
  },
  {
   "cell_type": "markdown",
   "metadata": {},
   "source": [
    "self_attention = softmax(((Q.K[transpose])/root(d_k))+M)V"
   ]
  },
  {
   "cell_type": "code",
   "execution_count": 3,
   "metadata": {},
   "outputs": [
    {
     "data": {
      "text/plain": [
       "array([[2.50286248, 3.18433483, 2.63678171, 2.91414775],\n",
       "       [2.01129534, 2.79715023, 2.09728104, 2.23858287],\n",
       "       [1.79402911, 1.73741309, 1.99445345, 2.14089526],\n",
       "       [1.89489531, 1.93088542, 2.18606139, 2.17681919]])"
      ]
     },
     "execution_count": 3,
     "metadata": {},
     "output_type": "execute_result"
    }
   ],
   "source": [
    "np.matmul(q ,k.T)"
   ]
  },
  {
   "cell_type": "code",
   "execution_count": 4,
   "metadata": {},
   "outputs": [
    {
     "data": {
      "text/plain": [
       "(0.07712972083544284, 0.07472497390855894, 0.16807017742833866)"
      ]
     },
     "execution_count": 4,
     "metadata": {},
     "output_type": "execute_result"
    }
   ],
   "source": [
    "# why we need sqrt(d_k) in the denominator\n",
    "q.var() , k.var() , np.matmul(q ,k.T).var()"
   ]
  },
  {
   "cell_type": "code",
   "execution_count": 5,
   "metadata": {},
   "outputs": [
    {
     "data": {
      "text/plain": [
       "(0.07712972083544284, 0.07472497390855894, 0.021008772178542332)"
      ]
     },
     "execution_count": 5,
     "metadata": {},
     "output_type": "execute_result"
    }
   ],
   "source": [
    "scaled = np.matmul(q ,k.T) / math.sqrt(d_k)\n",
    "q.var() , k.var() , scaled.var()"
   ]
  },
  {
   "cell_type": "code",
   "execution_count": 6,
   "metadata": {},
   "outputs": [
    {
     "data": {
      "text/plain": [
       "array([[0.88489552, 1.12583238, 0.93224311, 1.03030682],\n",
       "       [0.71110029, 0.98894195, 0.74150082, 0.79145857],\n",
       "       [0.63428507, 0.61426829, 0.70514578, 0.75692078],\n",
       "       [0.66994666, 0.68267109, 0.77288941, 0.76962181]])"
      ]
     },
     "execution_count": 6,
     "metadata": {},
     "output_type": "execute_result"
    }
   ],
   "source": [
    "scaled"
   ]
  },
  {
   "cell_type": "markdown",
   "metadata": {},
   "source": [
    "Masking\n"
   ]
  },
  {
   "cell_type": "code",
   "execution_count": 7,
   "metadata": {},
   "outputs": [
    {
     "data": {
      "text/plain": [
       "array([[1., 0., 0., 0.],\n",
       "       [1., 1., 0., 0.],\n",
       "       [1., 1., 1., 0.],\n",
       "       [1., 1., 1., 1.]])"
      ]
     },
     "execution_count": 7,
     "metadata": {},
     "output_type": "execute_result"
    }
   ],
   "source": [
    "mask =np.tril(np.ones((L, L)))\n",
    "mask"
   ]
  },
  {
   "cell_type": "code",
   "execution_count": 8,
   "metadata": {},
   "outputs": [],
   "source": [
    "mask[mask==0] = -np.infty\n",
    "mask[mask==1] = 0"
   ]
  },
  {
   "cell_type": "code",
   "execution_count": 9,
   "metadata": {},
   "outputs": [
    {
     "data": {
      "text/plain": [
       "array([[  0., -inf, -inf, -inf],\n",
       "       [  0.,   0., -inf, -inf],\n",
       "       [  0.,   0.,   0., -inf],\n",
       "       [  0.,   0.,   0.,   0.]])"
      ]
     },
     "execution_count": 9,
     "metadata": {},
     "output_type": "execute_result"
    }
   ],
   "source": [
    "mask"
   ]
  },
  {
   "cell_type": "code",
   "execution_count": 10,
   "metadata": {},
   "outputs": [
    {
     "data": {
      "text/plain": [
       "array([[0.88489552,       -inf,       -inf,       -inf],\n",
       "       [0.71110029, 0.98894195,       -inf,       -inf],\n",
       "       [0.63428507, 0.61426829, 0.70514578,       -inf],\n",
       "       [0.66994666, 0.68267109, 0.77288941, 0.76962181]])"
      ]
     },
     "execution_count": 10,
     "metadata": {},
     "output_type": "execute_result"
    }
   ],
   "source": [
    "scaled + mask"
   ]
  },
  {
   "cell_type": "code",
   "execution_count": 17,
   "metadata": {},
   "outputs": [],
   "source": [
    "def softmax(x):\n",
    "    return np.exp(x) / np.sum(np.exp(x), axis=1) "
   ]
  },
  {
   "cell_type": "code",
   "execution_count": 20,
   "metadata": {},
   "outputs": [],
   "source": [
    "attention = softmax(scaled + mask)"
   ]
  },
  {
   "cell_type": "code",
   "execution_count": 21,
   "metadata": {},
   "outputs": [
    {
     "data": {
      "text/plain": [
       "array([[1.        , 0.        , 0.        , 0.        ],\n",
       "       [0.84046898, 0.569017  , 0.        , 0.        ],\n",
       "       [0.77832551, 0.39120693, 0.35152829, 0.        ],\n",
       "       [0.80658269, 0.41890303, 0.37616724, 0.26142925]])"
      ]
     },
     "execution_count": 21,
     "metadata": {},
     "output_type": "execute_result"
    }
   ],
   "source": [
    "attention"
   ]
  },
  {
   "cell_type": "code",
   "execution_count": 22,
   "metadata": {},
   "outputs": [
    {
     "data": {
      "text/plain": [
       "array([[0.55545062, 0.1646575 , 0.56371012, 0.56949148, 0.77494086,\n",
       "        0.4534436 , 0.49482337, 0.08151995],\n",
       "       [0.60373054, 0.61888512, 0.84740522, 0.75553145, 0.94350658,\n",
       "        0.54230964, 0.96211589, 0.55314926],\n",
       "       [0.70944205, 0.47550427, 0.69860588, 0.84541619, 1.10711394,\n",
       "        0.70736308, 1.09474389, 0.43466857],\n",
       "       [0.97350506, 0.70859173, 0.91836904, 0.92245965, 1.28516033,\n",
       "        0.92953447, 1.28715496, 0.56918863]])"
      ]
     },
     "execution_count": 22,
     "metadata": {},
     "output_type": "execute_result"
    }
   ],
   "source": [
    "new_v = np.matmul(attention, v)\n",
    "new_v"
   ]
  },
  {
   "cell_type": "code",
   "execution_count": null,
   "metadata": {},
   "outputs": [],
   "source": []
  },
  {
   "cell_type": "code",
   "execution_count": null,
   "metadata": {},
   "outputs": [],
   "source": []
  }
 ],
 "metadata": {
  "kernelspec": {
   "display_name": "Python 3",
   "language": "python",
   "name": "python3"
  },
  "language_info": {
   "codemirror_mode": {
    "name": "ipython",
    "version": 3
   },
   "file_extension": ".py",
   "mimetype": "text/x-python",
   "name": "python",
   "nbconvert_exporter": "python",
   "pygments_lexer": "ipython3",
   "version": "3.12.6"
  }
 },
 "nbformat": 4,
 "nbformat_minor": 2
}
