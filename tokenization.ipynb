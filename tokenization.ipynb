{
  "nbformat": 4,
  "nbformat_minor": 0,
  "metadata": {
    "colab": {
      "provenance": []
    },
    "kernelspec": {
      "name": "python3",
      "display_name": "Python 3"
    },
    "language_info": {
      "name": "python"
    }
  },
  "cells": [
    {
      "cell_type": "code",
      "execution_count": 2,
      "metadata": {
        "colab": {
          "base_uri": "https://localhost:8080/"
        },
        "id": "VeQbn6a252vt",
        "outputId": "27949541-f823-4dc9-e8e6-e9f6bf93ba54"
      },
      "outputs": [
        {
          "output_type": "stream",
          "name": "stdout",
          "text": [
            "------\n",
            "hbfiefneibfdnwdyifiwe widfgweifigf ugfwdwgdfiwddif  ouifgwgfibdf doug 8gweuibf8ywgf wdubdubwdugf wdoufbwduhbfuywd sddcb sdofhwefwd f dwfougf budwbfuywd fwujhbfwdu cbf wdfu8g fuf dwfgef igufbuwgfubh  ihiwebfuweg odufhggweufbweufgeg    iweubfeff f efe f e fe oiuwdgf uwegf iwugf 9473   fuegfugeubfd fuogyfued fuydgfeu dfgwey8yfgwebfwofgwdfuihwegfwegf weuhfg eufgefbeufgduh uwdouhfgbwd8f  ouwdgfuwegf8yg owuefguefgweufb78fygwf    eiufguyegf f  e we fuywef  uwebfug  doffgfuwegf8yg fdjfgeuifbb fufg\n",
            "length: 494\n",
            "---\n",
            "[104, 98, 102, 105, 101, 102, 110, 101, 105, 98, 102, 100, 110, 119, 100, 121, 105, 102, 105, 119, 101, 32, 119, 105, 100, 102, 103, 119, 101, 105, 102, 105, 103, 102, 32, 117, 103, 102, 119, 100, 119, 103, 100, 102, 105, 119, 100, 100, 105, 102, 32, 32, 111, 117, 105, 102, 103, 119, 103, 102, 105, 98, 100, 102, 32, 100, 111, 117, 103, 32, 56, 103, 119, 101, 117, 105, 98, 102, 56, 121, 119, 103, 102, 32, 119, 100, 117, 98, 100, 117, 98, 119, 100, 117, 103, 102, 32, 119, 100, 111, 117, 102, 98, 119, 100, 117, 104, 98, 102, 117, 121, 119, 100, 32, 115, 100, 100, 99, 98, 32, 115, 100, 111, 102, 104, 119, 101, 102, 119, 100, 32, 102, 32, 100, 119, 102, 111, 117, 103, 102, 32, 98, 117, 100, 119, 98, 102, 117, 121, 119, 100, 32, 102, 119, 117, 106, 104, 98, 102, 119, 100, 117, 32, 99, 98, 102, 32, 119, 100, 102, 117, 56, 103, 32, 102, 117, 102, 32, 100, 119, 102, 103, 101, 102, 32, 105, 103, 117, 102, 98, 117, 119, 103, 102, 117, 98, 104, 32, 32, 105, 104, 105, 119, 101, 98, 102, 117, 119, 101, 103, 32, 111, 100, 117, 102, 104, 103, 103, 119, 101, 117, 102, 98, 119, 101, 117, 102, 103, 101, 103, 32, 32, 32, 32, 105, 119, 101, 117, 98, 102, 101, 102, 102, 32, 102, 32, 101, 102, 101, 32, 102, 32, 101, 32, 102, 101, 32, 111, 105, 117, 119, 100, 103, 102, 32, 117, 119, 101, 103, 102, 32, 105, 119, 117, 103, 102, 32, 57, 52, 55, 51, 32, 32, 32, 102, 117, 101, 103, 102, 117, 103, 101, 117, 98, 102, 100, 32, 102, 117, 111, 103, 121, 102, 117, 101, 100, 32, 102, 117, 121, 100, 103, 102, 101, 117, 32, 100, 102, 103, 119, 101, 121, 56, 121, 102, 103, 119, 101, 98, 102, 119, 111, 102, 103, 119, 100, 102, 117, 105, 104, 119, 101, 103, 102, 119, 101, 103, 102, 32, 119, 101, 117, 104, 102, 103, 32, 101, 117, 102, 103, 101, 102, 98, 101, 117, 102, 103, 100, 117, 104, 32, 117, 119, 100, 111, 117, 104, 102, 103, 98, 119, 100, 56, 102, 32, 32, 111, 117, 119, 100, 103, 102, 117, 119, 101, 103, 102, 56, 121, 103, 32, 111, 119, 117, 101, 102, 103, 117, 101, 102, 103, 119, 101, 117, 102, 98, 55, 56, 102, 121, 103, 119, 102, 32, 32, 32, 32, 101, 105, 117, 102, 103, 117, 121, 101, 103, 102, 32, 102, 32, 32, 101, 32, 119, 101, 32, 102, 117, 121, 119, 101, 102, 32, 32, 117, 119, 101, 98, 102, 117, 103, 32, 32, 100, 111, 102, 102, 103, 102, 117, 119, 101, 103, 102, 56, 121, 103, 32, 102, 100, 106, 102, 103, 101, 117, 105, 102, 98, 98, 32, 102, 117, 102, 103]\n",
            "length 494\n"
          ]
        }
      ],
      "source": [
        "text=\"hbfiefneibfdnwdyifiwe widfgweifigf ugfwdwgdfiwddif  ouifgwgfibdf doug 8gweuibf8ywgf wdubdubwdugf wdoufbwduhbfuywd sddcb sdofhwefwd f dwfougf budwbfuywd fwujhbfwdu cbf wdfu8g fuf dwfgef igufbuwgfubh  ihiwebfuweg odufhggweufbweufgeg    iweubfeff f efe f e fe oiuwdgf uwegf iwugf 9473   fuegfugeubfd fuogyfued fuydgfeu dfgwey8yfgwebfwofgwdfuihwegfwegf weuhfg eufgefbeufgduh uwdouhfgbwd8f  ouwdgfuwegf8yg owuefguefgweufb78fygwf    eiufguyegf f  e we fuywef  uwebfug  doffgfuwegf8yg fdjfgeuifbb fufg\"\n",
        "tokens=text.encode(\"utf-8\")\n",
        "tokens=list(map(int,tokens))\n",
        "print(\"------\")\n",
        "print(text)\n",
        "print(\"length:\",len(text))\n",
        "print(\"---\")\n",
        "print(tokens)\n",
        "print(\"length\",len(tokens))"
      ]
    },
    {
      "cell_type": "markdown",
      "source": [
        "pair occure frequently"
      ],
      "metadata": {
        "id": "jzHcYNZX7UoU"
      }
    },
    {
      "cell_type": "code",
      "source": [
        "chr(104),chr(98)"
      ],
      "metadata": {
        "colab": {
          "base_uri": "https://localhost:8080/"
        },
        "id": "bCCBl31Z8e_h",
        "outputId": "010fcc56-a611-4662-a2c6-2aecb80c448b"
      },
      "execution_count": 4,
      "outputs": [
        {
          "output_type": "execute_result",
          "data": {
            "text/plain": [
              "('h', 'b')"
            ]
          },
          "metadata": {},
          "execution_count": 4
        }
      ]
    },
    {
      "cell_type": "code",
      "source": [
        "def get_stats(ids):\n",
        "  counts={}\n",
        "  for pair in zip(ids,ids[1:]):\n",
        "    counts[pair]=counts.get(pair,0)+1\n",
        "  return counts\n",
        "\n",
        "stats=get_stats(tokens)\n",
        "print(stats)\n"
      ],
      "metadata": {
        "colab": {
          "base_uri": "https://localhost:8080/"
        },
        "id": "dStltmKs6484",
        "outputId": "e8bc10c3-0c8d-4fdf-8e4f-e5b3d0ae5bb5"
      },
      "execution_count": 3,
      "outputs": [
        {
          "output_type": "stream",
          "name": "stdout",
          "text": [
            "{(104, 98): 3, (98, 102): 12, (102, 105): 5, (105, 101): 1, (101, 102): 9, (102, 110): 1, (110, 101): 1, (101, 105): 3, (105, 98): 3, (102, 100): 3, (100, 110): 1, (110, 119): 1, (119, 100): 17, (100, 121): 1, (121, 105): 1, (105, 102): 5, (105, 119): 5, (119, 101): 21, (101, 32): 6, (32, 119): 6, (119, 105): 1, (105, 100): 1, (100, 102): 6, (102, 103): 17, (103, 119): 9, (105, 103): 2, (103, 102): 19, (102, 32): 22, (32, 117): 4, (117, 103): 7, (102, 119): 6, (100, 119): 4, (119, 103): 4, (103, 100): 2, (100, 100): 2, (100, 105): 1, (32, 32): 14, (32, 111): 5, (111, 117): 6, (117, 105): 4, (98, 100): 2, (32, 100): 5, (100, 111): 5, (103, 32): 8, (32, 56): 1, (56, 103): 2, (101, 117): 11, (102, 56): 3, (56, 121): 4, (121, 119): 4, (100, 117): 7, (117, 98): 5, (98, 119): 4, (117, 102): 11, (102, 98): 6, (117, 104): 4, (102, 117): 17, (117, 121): 5, (100, 32): 5, (32, 115): 2, (115, 100): 2, (100, 99): 1, (99, 98): 2, (98, 32): 2, (111, 102): 3, (102, 104): 2, (104, 119): 2, (32, 102): 13, (119, 102): 3, (102, 111): 1, (32, 98): 1, (98, 117): 2, (117, 100): 1, (119, 98): 1, (119, 117): 3, (117, 106): 1, (106, 104): 1, (117, 32): 2, (32, 99): 1, (117, 56): 1, (103, 101): 5, (32, 105): 4, (103, 117): 3, (117, 119): 9, (98, 104): 1, (104, 32): 2, (105, 104): 2, (104, 105): 1, (101, 98): 3, (101, 103): 9, (111, 100): 1, (104, 103): 1, (103, 103): 1, (102, 101): 4, (102, 102): 2, (32, 101): 5, (111, 105): 1, (105, 117): 2, (100, 103): 3, (32, 57): 1, (57, 52): 1, (52, 55): 1, (55, 51): 1, (51, 32): 1, (117, 101): 4, (117, 111): 1, (111, 103): 1, (103, 121): 1, (121, 102): 2, (101, 100): 1, (121, 100): 1, (101, 121): 1, (121, 56): 1, (119, 111): 1, (104, 102): 2, (98, 101): 1, (103, 98): 1, (100, 56): 1, (56, 102): 2, (121, 103): 3, (111, 119): 1, (98, 55): 1, (55, 56): 1, (102, 121): 1, (121, 101): 1, (100, 106): 1, (106, 102): 1, (98, 98): 1}\n"
          ]
        }
      ]
    },
    {
      "cell_type": "code",
      "source": [
        "top_pair=max(stats , key=stats.get)\n",
        "top_pair"
      ],
      "metadata": {
        "colab": {
          "base_uri": "https://localhost:8080/"
        },
        "id": "hYBo60Be8M3n",
        "outputId": "adc0f78c-fc55-417d-8194-a237b1f7cea3"
      },
      "execution_count": 8,
      "outputs": [
        {
          "output_type": "execute_result",
          "data": {
            "text/plain": [
              "(102, 32)"
            ]
          },
          "metadata": {},
          "execution_count": 8
        }
      ]
    },
    {
      "cell_type": "code",
      "source": [
        "def merge(ids,pair,idx):\n",
        "  newids=[]\n",
        "  i=0\n",
        "  while i< len(ids):\n",
        "    if i<len(ids)-1 and ids[i]==pair[0] and ids[i+1]==pair[1]:\n",
        "      newids.append(idx)\n",
        "      i+=2\n",
        "    else:\n",
        "      newids.append(ids[i])\n",
        "      i+=1\n",
        "  return newids\n",
        "\n",
        "tokens2=merge(tokens,top_pair,256)\n",
        "print(tokens2)\n",
        "print(\"length:\",len(tokens2))"
      ],
      "metadata": {
        "colab": {
          "base_uri": "https://localhost:8080/"
        },
        "id": "JZFqpCVu8_gG",
        "outputId": "3f4b0ea6-7e8f-49c4-cfdd-6c5770244f89"
      },
      "execution_count": 11,
      "outputs": [
        {
          "output_type": "stream",
          "name": "stdout",
          "text": [
            "[104, 98, 102, 105, 101, 102, 110, 101, 105, 98, 102, 100, 110, 119, 100, 121, 105, 102, 105, 119, 101, 32, 119, 105, 100, 102, 103, 119, 101, 105, 102, 105, 103, 256, 117, 103, 102, 119, 100, 119, 103, 100, 102, 105, 119, 100, 100, 105, 256, 32, 111, 117, 105, 102, 103, 119, 103, 102, 105, 98, 100, 256, 100, 111, 117, 103, 32, 56, 103, 119, 101, 117, 105, 98, 102, 56, 121, 119, 103, 256, 119, 100, 117, 98, 100, 117, 98, 119, 100, 117, 103, 256, 119, 100, 111, 117, 102, 98, 119, 100, 117, 104, 98, 102, 117, 121, 119, 100, 32, 115, 100, 100, 99, 98, 32, 115, 100, 111, 102, 104, 119, 101, 102, 119, 100, 32, 256, 100, 119, 102, 111, 117, 103, 256, 98, 117, 100, 119, 98, 102, 117, 121, 119, 100, 32, 102, 119, 117, 106, 104, 98, 102, 119, 100, 117, 32, 99, 98, 256, 119, 100, 102, 117, 56, 103, 32, 102, 117, 256, 100, 119, 102, 103, 101, 256, 105, 103, 117, 102, 98, 117, 119, 103, 102, 117, 98, 104, 32, 32, 105, 104, 105, 119, 101, 98, 102, 117, 119, 101, 103, 32, 111, 100, 117, 102, 104, 103, 103, 119, 101, 117, 102, 98, 119, 101, 117, 102, 103, 101, 103, 32, 32, 32, 32, 105, 119, 101, 117, 98, 102, 101, 102, 256, 256, 101, 102, 101, 32, 256, 101, 32, 102, 101, 32, 111, 105, 117, 119, 100, 103, 256, 117, 119, 101, 103, 256, 105, 119, 117, 103, 256, 57, 52, 55, 51, 32, 32, 32, 102, 117, 101, 103, 102, 117, 103, 101, 117, 98, 102, 100, 32, 102, 117, 111, 103, 121, 102, 117, 101, 100, 32, 102, 117, 121, 100, 103, 102, 101, 117, 32, 100, 102, 103, 119, 101, 121, 56, 121, 102, 103, 119, 101, 98, 102, 119, 111, 102, 103, 119, 100, 102, 117, 105, 104, 119, 101, 103, 102, 119, 101, 103, 256, 119, 101, 117, 104, 102, 103, 32, 101, 117, 102, 103, 101, 102, 98, 101, 117, 102, 103, 100, 117, 104, 32, 117, 119, 100, 111, 117, 104, 102, 103, 98, 119, 100, 56, 256, 32, 111, 117, 119, 100, 103, 102, 117, 119, 101, 103, 102, 56, 121, 103, 32, 111, 119, 117, 101, 102, 103, 117, 101, 102, 103, 119, 101, 117, 102, 98, 55, 56, 102, 121, 103, 119, 256, 32, 32, 32, 101, 105, 117, 102, 103, 117, 121, 101, 103, 256, 256, 32, 101, 32, 119, 101, 32, 102, 117, 121, 119, 101, 256, 32, 117, 119, 101, 98, 102, 117, 103, 32, 32, 100, 111, 102, 102, 103, 102, 117, 119, 101, 103, 102, 56, 121, 103, 32, 102, 100, 106, 102, 103, 101, 117, 105, 102, 98, 98, 32, 102, 117, 102, 103]\n",
            "length: 472\n"
          ]
        }
      ]
    },
    {
      "cell_type": "code",
      "source": [
        "def get_stats(ids):\n",
        "  counts={}\n",
        "  for pair in zip(ids,ids[1:]):\n",
        "    counts[pair]=counts.get(pair,0)+1\n",
        "  return counts\n",
        "\n",
        "def merge(ids,pair,idx):\n",
        "  newids=[]\n",
        "  i=0\n",
        "  while i< len(ids):\n",
        "    if i<len(ids)-1 and ids[i]==pair[0] and ids[i+1]==pair[1]:\n",
        "      newids.append(idx)\n",
        "      i+=2\n",
        "    else:\n",
        "      newids.append(ids[i])\n",
        "      i+=1\n",
        "  return newids\n",
        "\n",
        "# ---\n",
        "vocab_size=276\n",
        "num_merges=vocab_size- 256\n",
        "ids=list(tokens)\n",
        "\n",
        "merges={}\n",
        "for i in range(num_merges):\n",
        "  stats=get_stats(ids)\n",
        "  pair=max(stats,key=stats.get)\n",
        "  idx=256+i\n",
        "  print(f\"merging {pair} into a new token {idx}\")\n",
        "  ids=merge(ids,pair,idx)\n",
        "  merges[pair]=idx\n"
      ],
      "metadata": {
        "colab": {
          "base_uri": "https://localhost:8080/"
        },
        "id": "PZox9arW_PDz",
        "outputId": "dd15c91f-85d3-4590-b211-caf19003d17f"
      },
      "execution_count": 14,
      "outputs": [
        {
          "output_type": "stream",
          "name": "stdout",
          "text": [
            "merging (102, 32) into a new token 256\n",
            "merging (119, 101) into a new token 257\n",
            "merging (119, 100) into a new token 258\n",
            "merging (102, 103) into a new token 259\n",
            "merging (102, 117) into a new token 260\n",
            "merging (103, 256) into a new token 261\n",
            "merging (32, 32) into a new token 262\n",
            "merging (98, 102) into a new token 263\n",
            "merging (103, 102) into a new token 264\n",
            "merging (111, 117) into a new token 265\n",
            "merging (257, 117) into a new token 266\n",
            "merging (102, 98) into a new token 267\n",
            "merging (32, 260) into a new token 268\n",
            "merging (101, 117) into a new token 269\n",
            "merging (256, 32) into a new token 270\n",
            "merging (103, 32) into a new token 271\n",
            "merging (56, 121) into a new token 272\n",
            "merging (258, 117) into a new token 273\n",
            "merging (98, 260) into a new token 274\n",
            "merging (101, 32) into a new token 275\n"
          ]
        }
      ]
    },
    {
      "cell_type": "code",
      "source": [],
      "metadata": {
        "id": "7dcZdcQpFGb0"
      },
      "execution_count": null,
      "outputs": []
    }
  ]
}